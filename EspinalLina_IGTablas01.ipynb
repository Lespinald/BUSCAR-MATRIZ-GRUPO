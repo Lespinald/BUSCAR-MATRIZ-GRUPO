{
 "cells": [
  {
   "cell_type": "code",
   "execution_count": 41,
   "id": "93da2a1b-31f8-4f77-96f8-de59d554f39d",
   "metadata": {},
   "outputs": [
    {
     "name": "stdout",
     "output_type": "stream",
     "text": [
      "Numero de filas:3\n",
      "Ingrese los valores de la matriz fila por fila:\n",
      "1\n",
      "2\n",
      "3\n",
      "2\n",
      "3\n",
      "1\n",
      "3\n",
      "1\n",
      "2\n",
      "1 2 3 \n",
      "2 3 1 \n",
      "3 1 2 \n"
     ]
    }
   ],
   "source": [
    "C = int(input(\"Numero de filas:\")) #Como nuestra matriz es cuadrada solo pedimos la cantidad de filas\n",
    "print(\"Ingrese los valores de la matriz fila por fila:\") #Separados por un enter\n",
    "\n",
    "# Inicialización y visualización de la matrix\n",
    "matrix = []\n",
    "    \n",
    "for i in range(C):\n",
    "    a = []\n",
    "    for j in range(C):\n",
    "        a.append(input())\n",
    "    matrix.append(a)\n",
    "\n",
    "for i in range(C):\n",
    "    for j in range(C):\n",
    "        print(matrix[i][j], end=\" \")\n",
    "    print()"
   ]
  },
  {
   "cell_type": "code",
   "execution_count": 42,
   "id": "7cd86944-19d1-47f6-9b70-093611380c20",
   "metadata": {},
   "outputs": [
    {
     "name": "stdout",
     "output_type": "stream",
     "text": [
      "Es un cuadro latino?: True\n"
     ]
    }
   ],
   "source": [
    "# Chequeo para saber si es un cuadro latino\n",
    "bandera = True #Asumimos que la matriz es un grupo\n",
    "for i in range(C):\n",
    "    for j in range(C):\n",
    "        for k in range(C):\n",
    "            if i != j:\n",
    "                if j != k:\n",
    "                    if matrix[i][k] == matrix[i][j]: # Si se repiten elementos en las filas devuelve falso\n",
    "                        bandera = False\n",
    "                        break\n",
    "                    if matrix[j][i] == matrix[k][i]: # Si se repiten elementos en las columnas devuelve falso\n",
    "                        bandera = False\n",
    "                        break\n",
    "print(f\"Es un cuadro latino?: {bandera}\")"
   ]
  },
  {
   "cell_type": "code",
   "execution_count": 43,
   "id": "e713d66d-bfee-4734-9ccd-7e75c364d469",
   "metadata": {},
   "outputs": [
    {
     "name": "stdout",
     "output_type": "stream",
     "text": [
      "Cuantos elementos tiene el conjunto?: 3\n",
      "Enuncie los elementos del conjunto:\n",
      "\n",
      "1\n",
      "2\n",
      "3\n",
      "\n",
      " Conjunto:  ['1', '2', '3']\n"
     ]
    }
   ],
   "source": [
    "# Definimos el conjunto al que pertenecen los elementos del grupo\n",
    "R=(int(input(\"Cuantos elementos tiene el conjunto?: \"))) \n",
    "print(\"Enuncie los elementos del conjunto:\\n\")\n",
    "\n",
    "#Creamos un arreglo b para el conjunto\n",
    "b=[]\n",
    "for i in range(R):\n",
    "    b.append(input())\n",
    "print(\"\\n Conjunto: \",b)\n",
    "\n",
    "#Definimos una variable para el tamaño de la matriz y una bandera check para ir revisando los axiomas que definen un grupo\n",
    "n = len(matrix)\n",
    "check= True"
   ]
  },
  {
   "cell_type": "code",
   "execution_count": 44,
   "id": "126d146e-47cb-4733-b8c3-0b2139c303d7",
   "metadata": {},
   "outputs": [],
   "source": [
    "# Chequeo del axioma de cerradura\n",
    "for i in matrix:\n",
    "    for j in i:\n",
    "        if j not in b:\n",
    "            check = False #En caso de no cumplirse el axioma la bandera check se vuelve falsa"
   ]
  },
  {
   "cell_type": "code",
   "execution_count": 45,
   "id": "43a90b0d-3e17-4ea0-978a-c3c0ade30b00",
   "metadata": {},
   "outputs": [],
   "source": [
    "# Chequeo del axioma de asociatividad \n",
    "for i in range(n):\n",
    "    for j in range(n):\n",
    "        for k in range(n):\n",
    "            for l in range(n):\n",
    "                if (matrix[i][j] + matrix[j][k]) + matrix[k][l] != matrix[i][j] + (matrix[j][k] + matrix[k][l]):\n",
    "                    check = False #En caso de no cumplirse el axioma la bandera check se vuelve falsa"
   ]
  },
  {
   "cell_type": "code",
   "execution_count": 46,
   "id": "bb337564",
   "metadata": {},
   "outputs": [],
   "source": [
    "# Chequeo del axioma de identidad\n",
    "if bandera == True:\n",
    "    contador = 0\n",
    "    for i in range(C):\n",
    "        for j in range(C):\n",
    "            if matrix[0][0] == matrix[i][j]:\n",
    "                contador+=1\n",
    "    if contador != C:\n",
    "        check = False #En caso de no cumplirse el axioma la bandera check se vuelve falsa"
   ]
  },
  {
   "cell_type": "code",
   "execution_count": 47,
   "id": "cb0504c8",
   "metadata": {},
   "outputs": [
    {
     "name": "stdout",
     "output_type": "stream",
     "text": [
      "La matriz es un grupo?: True\n"
     ]
    }
   ],
   "source": [
    "# Chequeo del axioma del inverso\n",
    "determinante = []\n",
    "for i in range(n):\n",
    "    determinante.append(0)\n",
    "\n",
    "for i in range(n):\n",
    "    for j in range(n):\n",
    "        if matrix[i][j] == matrix[0][0]:\n",
    "            determinante[j] = matrix[i]\n",
    "\n",
    "if 0 in determinante:\n",
    "    check = False #En caso de no cumplirse el axioma la bandera check se vuelve falsa\n",
    "\n",
    "print(f\"La matriz es un grupo?: {check}\")"
   ]
  },
  {
   "cell_type": "code",
   "execution_count": null,
   "id": "f046b951",
   "metadata": {},
   "outputs": [],
   "source": []
  }
 ],
 "metadata": {
  "kernelspec": {
   "display_name": "Python 3 (ipykernel)",
   "language": "python",
   "name": "python3"
  },
  "language_info": {
   "codemirror_mode": {
    "name": "ipython",
    "version": 3
   },
   "file_extension": ".py",
   "mimetype": "text/x-python",
   "name": "python",
   "nbconvert_exporter": "python",
   "pygments_lexer": "ipython3",
   "version": "3.11.0"
  }
 },
 "nbformat": 4,
 "nbformat_minor": 5
}
